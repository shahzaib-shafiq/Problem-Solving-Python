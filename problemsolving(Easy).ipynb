{
 "cells": [
  {
   "cell_type": "markdown",
   "id": "dc07d24a",
   "metadata": {},
   "source": [
    "## return active_customers returns the final list of active customers \n",
    "## who meet the criteria of having at least 5% of the total trades,\n",
    "## sorted alphabetically"
   ]
  },
  {
   "cell_type": "code",
   "execution_count": 5,
   "id": "19d932ea",
   "metadata": {},
   "outputs": [
    {
     "name": "stdout",
     "output_type": "stream",
     "text": [
      "['Acme', 'Bigcorp', 'Zork']\n"
     ]
    }
   ],
   "source": [
    "def mostActive(customers):\n",
    "    # Create a dictionary to store the number of trades per customer\n",
    "    trade_counts = {}\n",
    "    for customer in customers:\n",
    "        if customer in trade_counts:\n",
    "            trade_counts[customer] += 1\n",
    "        else:\n",
    "            trade_counts[customer] = 1\n",
    "\n",
    "    # Calculate the total number of trades\n",
    "    total_trades = len(customers)\n",
    "\n",
    "    # Filter out customers with at least 5% of trades\n",
    "    active_customers = [customer for customer, count in trade_counts.items() if count / total_trades >= 0.05]\n",
    "\n",
    "    # Sort the active customers alphabetically\n",
    "    active_customers.sort()\n",
    "\n",
    "    return active_customers\n",
    "\n",
    "n = 23\n",
    "customers = ['Bigcorp', 'Bigcorp', 'Acme', 'Bigcorp', 'Zork', 'Zork', 'Abc', 'Bigcorp', 'Acme', 'Bigcorp', 'Bigcorp', 'Zork', 'Bigcorp', 'Zork', 'Zork', 'Bigcorp', 'Acme', 'Вісо', 'Асте', 'Bigcorp', 'Acme', 'Littlecorp', 'Nadircorp']\n",
    "print(mostActive(customers))\n",
    "\n",
    "# from collections import Counter\n",
    "\n",
    "# def mostActive(customers):\n",
    "#     # Count the number of trades for each customer\n",
    "#     trade_counts = Counter(customers)\n",
    "#     total_trades = len(customers)\n",
    "    \n",
    "#     # Calculate the threshold for 5% of total trades\n",
    "#     threshold = total_trades * 0.05\n",
    "    \n",
    "#     # Filter customers who have at least 5% of trades\n",
    "#     active_customers = [customer for customer, count in trade_counts.items() if count >= threshold]\n",
    "    \n",
    "#     # Sort the list alphabetically\n",
    "#     active_customers.sort()\n",
    "    \n",
    "#     return active_customers\n",
    "\n",
    "# # Example usage\n",
    "# n = 23\n",
    "# customers = ['Bigcorp', 'Bigcorp', 'Acme', 'Bigcorp', 'Zork', 'Zork', 'Abc', 'Bigcorp', 'Acme', 'Bigcorp', 'Bigcorp', 'Zork', 'Bigcorp', 'Zork', 'Zork', 'Bigcorp', 'Acme', 'Вісо', 'Асте', 'Bigcorp', 'Acme', 'Littlecorp', 'Nadircorp']\n",
    "# print(mostActive(customers))\n"
   ]
  },
  {
   "cell_type": "markdown",
   "id": "e82a0c7d",
   "metadata": {},
   "source": [
    " ## Calculates the minimum total distance traveled by crews to reach repair points."
   ]
  },
  {
   "cell_type": "code",
   "execution_count": 4,
   "id": "47d19d08",
   "metadata": {},
   "outputs": [
    {
     "name": "stdout",
     "output_type": "stream",
     "text": [
      "6\n"
     ]
    }
   ],
   "source": [
    "def getMinCost(crewId, jobId):\n",
    "  \"\"\"\n",
    "  Calculates the minimum total distance traveled by crews to reach repair points.\n",
    "\n",
    "  Args:\n",
    "      crewId: A list of crew locations.\n",
    "      jobId: A list of repair point locations.\n",
    "\n",
    "  Returns:\n",
    "      The minimum total distance traveled.\n",
    "  \"\"\"\n",
    "\n",
    "  # Sort both lists in ascending order\n",
    "  crewId.sort()\n",
    "  jobId.sort()\n",
    "\n",
    "  total_distance = 0\n",
    "  # Iterate through both lists simultaneously\n",
    "  for i in range(len(crewId)):\n",
    "    #print(crewId)\n",
    "    \n",
    "    #print(jobId)\n",
    "    \n",
    "    # Calculate distance for each crew-point pair and add to total\n",
    "    total_distance += abs(crewId[i] - jobId[i])\n",
    "\n",
    "  return total_distance\n",
    "\n",
    "\n",
    "crewId = [1, 3, 5]\n",
    "jobId = [3, 5, 7]\n",
    "\n",
    "min_cost = getMinCost(crewId, jobId)\n",
    "print(min_cost)  # Output: 6\n"
   ]
  },
  {
   "cell_type": "markdown",
   "id": "fc677949",
   "metadata": {},
   "source": [
    "## INTERMEDIATE PROBLEM SOLVING"
   ]
  },
  {
   "cell_type": "code",
   "execution_count": 4,
   "id": "c6472a88",
   "metadata": {},
   "outputs": [
    {
     "name": "stdout",
     "output_type": "stream",
     "text": [
      "[1, 1, 0, 1]\n"
     ]
    }
   ],
   "source": [
    "\n",
    "import math\n",
    "import os\n",
    "import random\n",
    "import re\n",
    "import sys\n",
    "\n",
    "\n",
    "\n",
    "\n",
    "def authEvents(events):\n",
    "    p = 131\n",
    "    M = 10**9 + 7\n",
    "\n",
    "    def f(c):\n",
    "        return ord(c)\n",
    "\n",
    "    def h(s):\n",
    "        return sum(f(s[i]) * p**(len(s)-1-i) % M for i in range(len(s))) % M\n",
    "\n",
    "    result = []\n",
    "    password = None\n",
    "    for event in events:\n",
    "        if event[0] == \"setPassword\":\n",
    "            password = event[1]\n",
    "        elif event[0] == \"authorize\":\n",
    "            x = int(event[1])\n",
    "            if x == h(password) or any(x == h(password + c) for c in map(chr, range(128))):\n",
    "                result.append(1)\n",
    "            else:\n",
    "                result.append(0)\n",
    "\n",
    "    return result\n",
    "\n",
    "# Example usage\n",
    "events = [\n",
    "    [\"setPassword\", \"cAr1\"],\n",
    "    [\"authorize\", \"223691457\"],\n",
    "    [\"authorize\", \"303580761\"],\n",
    "    [\"authorize\", \"100\"],\n",
    "    [\"setPassword\", \"d\"],\n",
    "    [\"authorize\", \"100\"]\n",
    "]\n",
    "\n",
    "print(authEvents(events))  # Output: [1, 1, 0, 1]\n"
   ]
  },
  {
   "cell_type": "markdown",
   "id": "c9277a27",
   "metadata": {},
   "source": [
    "# The function is expected to return a LONG_INTEGER_ARRAY.\n",
    "# The function accepts following parameters:\n",
    "#  1. INTEGER w\n",
    "#  2. INTEGER h\n",
    "#  3. BOOLEAN_ARRAY isVertical\n",
    "#  4. INTEGER_ARRAY distance\n",
    "#"
   ]
  },
  {
   "cell_type": "code",
   "execution_count": 5,
   "id": "7de29706",
   "metadata": {},
   "outputs": [
    {
     "name": "stdout",
     "output_type": "stream",
     "text": [
      "[16, 16]\n"
     ]
    }
   ],
   "source": [
    "def getMaxArea(w, h, isVertical, distance):\n",
    "    n = len(isVertical)\n",
    "    max_areas = []\n",
    "    horiz_lines = [0] * (w + 1)\n",
    "    vert_lines = [0] * (h + 1)\n",
    "    max_horiz_area = w * h\n",
    "    max_vert_area = w * h\n",
    "    for i in range(n):\n",
    "        if isVertical[i]:\n",
    "            # Add a vertical line\n",
    "            for j in range(distance[i] + 1):\n",
    "                vert_lines[j] += 1\n",
    "            # Calculate the largest open area\n",
    "            max_vert_area = max(max_vert_area, max(vert_lines))\n",
    "            max_areas.append(max_vert_area)\n",
    "            # Reset the vertical lines\n",
    "            vert_lines = [0] * (h + 1)\n",
    "        else:\n",
    "            # Add a horizontal line\n",
    "            for j in range(distance[i] + 1):\n",
    "                horiz_lines[j] += 1\n",
    "            # Calculate the largest open area\n",
    "            max_horiz_area = max(max_horiz_area, max(horiz_lines))\n",
    "            max_areas.append(max_horiz_area)\n",
    "            # Reset the horizontal lines\n",
    "            horiz_lines = [0] * (w + 1)\n",
    "    return max_areas\n",
    "\n",
    "w = 4\n",
    "h = 4\n",
    "isVertical = [0, 1]\n",
    "distance = [3, 1]\n",
    "print(getMaxArea(w, h, isVertical, distance))  # Output: [12, 9]\n"
   ]
  },
  {
   "cell_type": "code",
   "execution_count": 7,
   "id": "f725b149",
   "metadata": {},
   "outputs": [
    {
     "name": "stdout",
     "output_type": "stream",
     "text": [
      "[16, 16]\n"
     ]
    }
   ],
   "source": [
    "\n",
    "# def getMaxArea(w, h, isVertical, distance):\n",
    "#     # Write your code here\n",
    "\n",
    "def getMaxArea(w, h, isVertical, distance):\n",
    "    n = len(isVertical)\n",
    "    max_areas = []\n",
    "    max_horiz_area = w * h\n",
    "    max_vert_area = w * h\n",
    "    horiz_lines = [0] * (w + 1)\n",
    "    vert_lines = [0] * (h + 1)\n",
    "    for i in range(n):\n",
    "        if isVertical[i]:\n",
    "            # Calculate the open area for the current vertical line\n",
    "            open_area = max(vert_lines)\n",
    "            max_vert_area = max(max_vert_area, open_area)\n",
    "            max_areas.append(max_vert_area)\n",
    "            # Add the current vertical line\n",
    "            for j in range(distance[i] + 1):\n",
    "                vert_lines[j] += 1\n",
    "            # Reset the horizontal lines\n",
    "            horiz_lines = [0] * (w + 1)\n",
    "        else:\n",
    "            # Calculate the open area for the current horizontal line\n",
    "            open_area = max(horiz_lines)\n",
    "            max_horiz_area = max(max_horiz_area, open_area)\n",
    "            max_areas.append(max_horiz_area)\n",
    "            # Add the current horizontal line\n",
    "            for j in range(distance[i] + 1):\n",
    "                horiz_lines[j] += 1\n",
    "            # Reset the vertical lines\n",
    "            vert_lines = [0] * (h + 1)\n",
    "    return max_areas\n",
    "\n",
    "\n",
    "w = 4\n",
    "h = 4\n",
    "isVertical = [0, 1]\n",
    "distance = [3, 1]\n",
    "print(getMaxArea(w, h, isVertical, distance))  # Output: [12, 9]\n"
   ]
  },
  {
   "cell_type": "code",
   "execution_count": null,
   "id": "eb0c3a2c",
   "metadata": {},
   "outputs": [],
   "source": []
  }
 ],
 "metadata": {
  "kernelspec": {
   "display_name": "Python 3 (ipykernel)",
   "language": "python",
   "name": "python3"
  },
  "language_info": {
   "codemirror_mode": {
    "name": "ipython",
    "version": 3
   },
   "file_extension": ".py",
   "mimetype": "text/x-python",
   "name": "python",
   "nbconvert_exporter": "python",
   "pygments_lexer": "ipython3",
   "version": "3.11.5"
  }
 },
 "nbformat": 4,
 "nbformat_minor": 5
}
