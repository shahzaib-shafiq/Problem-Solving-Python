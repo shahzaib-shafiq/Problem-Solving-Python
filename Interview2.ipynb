{
 "cells": [
  {
   "cell_type": "code",
   "execution_count": 1,
   "metadata": {},
   "outputs": [
    {
     "name": "stdout",
     "output_type": "stream",
     "text": [
      "[-1, 2, -3, 4, 5, 6, -7, 8, 9]\n"
     ]
    }
   ],
   "source": [
    "def rearrange_array(arr):\n",
    "    n = len(arr)\n",
    "    if n <= 1:\n",
    "        return arr\n",
    "\n",
    "    # Initialize two pointers for positive and negative numbers\n",
    "    pos, neg = 0, 1\n",
    "\n",
    "    while True:\n",
    "        # Move positive pointer to the next positive number\n",
    "        while pos < n and arr[pos] < 0:\n",
    "            pos += 2\n",
    "\n",
    "        # Move negative pointer to the next negative number\n",
    "        while neg < n and arr[neg] > 0:\n",
    "            neg += 2\n",
    "\n",
    "        # If both pointers are within bounds, swap the elements\n",
    "        if pos < n and neg < n:\n",
    "            arr[pos], arr[neg] = arr[neg], arr[pos]\n",
    "        else:\n",
    "            break\n",
    "\n",
    "    return arr\n",
    "\n",
    "# Example usage\n",
    "arr = [-1, 2, -3, 4, 5, 6, -7, 8, 9]\n",
    "result = rearrange_array(arr)\n",
    "print(result)\n"
   ]
  },
  {
   "cell_type": "code",
   "execution_count": 4,
   "metadata": {},
   "outputs": [
    {
     "ename": "IndexError",
     "evalue": "list assignment index out of range",
     "output_type": "error",
     "traceback": [
      "\u001b[1;31m---------------------------------------------------------------------------\u001b[0m",
      "\u001b[1;31mIndexError\u001b[0m                                Traceback (most recent call last)",
      "Cell \u001b[1;32mIn[4], line 26\u001b[0m\n\u001b[0;32m     24\u001b[0m \u001b[38;5;66;03m# Example usage\u001b[39;00m\n\u001b[0;32m     25\u001b[0m arr \u001b[38;5;241m=\u001b[39m [\u001b[38;5;241m-\u001b[39m\u001b[38;5;241m1\u001b[39m, \u001b[38;5;241m2\u001b[39m, \u001b[38;5;241m-\u001b[39m\u001b[38;5;241m3\u001b[39m, \u001b[38;5;241m4\u001b[39m, \u001b[38;5;241m5\u001b[39m, \u001b[38;5;241m6\u001b[39m, \u001b[38;5;241m-\u001b[39m\u001b[38;5;241m7\u001b[39m, \u001b[38;5;241m8\u001b[39m, \u001b[38;5;241m9\u001b[39m]\n\u001b[1;32m---> 26\u001b[0m result \u001b[38;5;241m=\u001b[39m rearrange_array(arr)\n\u001b[0;32m     27\u001b[0m \u001b[38;5;28mprint\u001b[39m(result)\n",
      "Cell \u001b[1;32mIn[4], line 16\u001b[0m, in \u001b[0;36mrearrange_array\u001b[1;34m(arr)\u001b[0m\n\u001b[0;32m     14\u001b[0m \u001b[38;5;28;01mfor\u001b[39;00m i \u001b[38;5;129;01min\u001b[39;00m \u001b[38;5;28mrange\u001b[39m(n):\n\u001b[0;32m     15\u001b[0m     \u001b[38;5;28;01mif\u001b[39;00m arr[i] \u001b[38;5;241m>\u001b[39m\u001b[38;5;241m=\u001b[39m \u001b[38;5;241m0\u001b[39m:\n\u001b[1;32m---> 16\u001b[0m         result[pos] \u001b[38;5;241m=\u001b[39m arr[i]\n\u001b[0;32m     17\u001b[0m         pos \u001b[38;5;241m+\u001b[39m\u001b[38;5;241m=\u001b[39m \u001b[38;5;241m2\u001b[39m\n\u001b[0;32m     18\u001b[0m     \u001b[38;5;28;01melse\u001b[39;00m:\n",
      "\u001b[1;31mIndexError\u001b[0m: list assignment index out of range"
     ]
    }
   ],
   "source": [
    "def rearrange_array(arr):\n",
    "    n = len(arr)\n",
    "    if n <= 1:\n",
    "        return arr\n",
    "\n",
    "    # Create an auxiliary array to store the rearranged elements\n",
    "    result = [None] * n\n",
    "\n",
    "    # Initialize indexes for positive and negative numbers\n",
    "    pos, neg = 0, 1\n",
    "\n",
    "    # Traverse the array and place positive numbers at even indexes\n",
    "    # and negative numbers at odd indexes\n",
    "    for i in range(n):\n",
    "        if arr[i] >= 0:\n",
    "            result[pos] = arr[i]\n",
    "            pos += 2\n",
    "        else:\n",
    "            result[neg] = arr[i]\n",
    "            neg += 2\n",
    "\n",
    "    return result\n",
    "\n",
    "# Example usage\n",
    "arr = [-1, 2, -3, 4, 5, 6, -7, 8, 9]\n",
    "result = rearrange_array(arr)\n",
    "print(result)\n"
   ]
  },
  {
   "cell_type": "code",
   "execution_count": 1,
   "metadata": {},
   "outputs": [
    {
     "name": "stdout",
     "output_type": "stream",
     "text": [
      "True\n"
     ]
    }
   ],
   "source": [
    "class TreeNode:\n",
    "    def __init__(self, value=0, left=None, right=None):\n",
    "        self.value = value\n",
    "        self.left = left\n",
    "        self.right = right\n",
    "\n",
    "def is_bst(root, min_val=float('-inf'), max_val=float('inf')):\n",
    "    if root is None:\n",
    "        return True\n",
    "    if root.value <= min_val or root.value >= max_val:\n",
    "        return False\n",
    "    return is_bst(root.left, min_val, root.value) and is_bst(root.right, root.value, max_val)\n",
    "\n",
    "# Example usage\n",
    "root = TreeNode(2)\n",
    "root.left = TreeNode(1)\n",
    "root.right = TreeNode(3)\n",
    "\n",
    "print(is_bst(root))  # Output: True\n"
   ]
  },
  {
   "cell_type": "code",
   "execution_count": 4,
   "metadata": {},
   "outputs": [
    {
     "name": "stdout",
     "output_type": "stream",
     "text": [
      "True\n"
     ]
    }
   ],
   "source": [
    "class ListNode:\n",
    "    def __init__(self, val=0, next=None):\n",
    "        self.val = val\n",
    "        self.next = next\n",
    "\n",
    "def has_cycle(head):\n",
    "    if head is None or head.next is None:\n",
    "        return False\n",
    "\n",
    "    slow = head\n",
    "    fast = head.next\n",
    "\n",
    "    while slow != fast:\n",
    "        if fast is None or fast.next is None:\n",
    "            return False\n",
    "        slow = slow.next\n",
    "        fast = fast.next.next\n",
    "\n",
    "    return True\n",
    "\n",
    "# Example usage\n",
    "# Create a linked list with a loop\n",
    "head =  ListNode(1)\n",
    "node2 = ListNode(2)\n",
    "node3 = ListNode(3)\n",
    "node4 = ListNode(4)\n",
    "node5 = ListNode(5)\n",
    "node6 = ListNode(6)\n",
    "node7 = ListNode(7)\n",
    "\n",
    "head.next = node2\n",
    "node2.next = node3\n",
    "node3.next = node4\n",
    "node4.next = node5\n",
    "node5.next = node6\n",
    "node6.next = node3  # Create a loop\n",
    "\n",
    "print(has_cycle(head))  # Output: True\n"
   ]
  },
  {
   "cell_type": "code",
   "execution_count": 3,
   "metadata": {},
   "outputs": [
    {
     "name": "stdout",
     "output_type": "stream",
     "text": [
      "120\n"
     ]
    }
   ],
   "source": [
    "def factorial_recursive(n):\n",
    "    if n == 0:\n",
    "        return 1\n",
    "    return n * factorial_recursive(n - 1)\n",
    "\n",
    "# Example usage\n",
    "print(factorial_recursive(5))  # Output: 120\n"
   ]
  },
  {
   "cell_type": "code",
   "execution_count": null,
   "metadata": {},
   "outputs": [],
   "source": [
    "#size of a binary tree\n",
    "class TreeNode:\n",
    "    def __init__(self, value=0, left=None, right=None):\n",
    "        self.value = value\n",
    "        self.left = left\n",
    "        self.right = right\n",
    "\n",
    "def size_recursive(root):\n",
    "    if root is None:\n",
    "        return 0\n",
    "    return 1 + size_recursive(root.left) + size_recursive(root.right)\n",
    "\n",
    "def size_iterative(root):\n",
    "    if root is None:\n",
    "        return 0\n",
    "    stack = [root]\n",
    "    size = 0\n",
    "    while stack:\n",
    "        node = stack.pop()\n",
    "        size += 1\n",
    "        if node.left:\n",
    "            stack.append(node.left)\n",
    "        if node.right:\n",
    "            stack.append(node.right)\n",
    "    return size\n",
    "\n",
    "# Example usage\n",
    "root = TreeNode(1)\n",
    "root.left = TreeNode(2)\n",
    "root.right = TreeNode(3)\n",
    "root.left.left = TreeNode(4)\n",
    "root.left.right = TreeNode(5)\n",
    "\n",
    "print(size_recursive(root))  # Output: 5\n",
    "print(size_iterative(root))  # Output: 5\n"
   ]
  }
 ],
 "metadata": {
  "kernelspec": {
   "display_name": "base",
   "language": "python",
   "name": "python3"
  },
  "language_info": {
   "codemirror_mode": {
    "name": "ipython",
    "version": 3
   },
   "file_extension": ".py",
   "mimetype": "text/x-python",
   "name": "python",
   "nbconvert_exporter": "python",
   "pygments_lexer": "ipython3",
   "version": "3.11.5"
  }
 },
 "nbformat": 4,
 "nbformat_minor": 2
}
