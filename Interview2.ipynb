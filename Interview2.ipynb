{
 "cells": [
  {
   "cell_type": "code",
   "execution_count": 32,
   "metadata": {},
   "outputs": [
    {
     "name": "stdout",
     "output_type": "stream",
     "text": [
      "[-1, 2, -3, 4, 5, 6, -7, 8, 9]\n"
     ]
    }
   ],
   "source": [
    "def rearrange_array(arr):\n",
    "    n = len(arr)\n",
    "    if n <= 1:\n",
    "        return arr\n",
    "\n",
    "    # Initialize two pointers for positive and negative numbers\n",
    "    pos, neg = 0, 1\n",
    "\n",
    "    while True:\n",
    "        # Move positive pointer to the next positive number\n",
    "        while pos < n and arr[pos] < 0:\n",
    "            pos += 2\n",
    "\n",
    "        # Move negative pointer to the next negative number\n",
    "        while neg < n and arr[neg] > 0:\n",
    "            neg += 2\n",
    "\n",
    "        # If both pointers are within bounds, swap the elements\n",
    "        if pos < n and neg < n:\n",
    "            arr[pos], arr[neg] = arr[neg], arr[pos]\n",
    "        else:\n",
    "            break\n",
    "\n",
    "    return arr\n",
    "\n",
    "# Example usage\n",
    "arr = [-1, 2, -3, 4, 5, 6, -7, 8, 9]\n",
    "result = rearrange_array(arr)\n",
    "print(result)\n"
   ]
  },
  {
   "cell_type": "code",
   "execution_count": 33,
   "metadata": {},
   "outputs": [
    {
     "ename": "IndexError",
     "evalue": "list assignment index out of range",
     "output_type": "error",
     "traceback": [
      "\u001b[1;31m---------------------------------------------------------------------------\u001b[0m",
      "\u001b[1;31mIndexError\u001b[0m                                Traceback (most recent call last)",
      "Cell \u001b[1;32mIn[33], line 26\u001b[0m\n\u001b[0;32m     24\u001b[0m \u001b[38;5;66;03m# Example usage\u001b[39;00m\n\u001b[0;32m     25\u001b[0m arr \u001b[38;5;241m=\u001b[39m [\u001b[38;5;241m-\u001b[39m\u001b[38;5;241m1\u001b[39m, \u001b[38;5;241m2\u001b[39m, \u001b[38;5;241m-\u001b[39m\u001b[38;5;241m3\u001b[39m, \u001b[38;5;241m4\u001b[39m, \u001b[38;5;241m5\u001b[39m, \u001b[38;5;241m6\u001b[39m, \u001b[38;5;241m-\u001b[39m\u001b[38;5;241m7\u001b[39m, \u001b[38;5;241m8\u001b[39m, \u001b[38;5;241m9\u001b[39m]\n\u001b[1;32m---> 26\u001b[0m result \u001b[38;5;241m=\u001b[39m rearrange_array(arr)\n\u001b[0;32m     27\u001b[0m \u001b[38;5;28mprint\u001b[39m(result)\n",
      "Cell \u001b[1;32mIn[33], line 16\u001b[0m, in \u001b[0;36mrearrange_array\u001b[1;34m(arr)\u001b[0m\n\u001b[0;32m     14\u001b[0m \u001b[38;5;28;01mfor\u001b[39;00m i \u001b[38;5;129;01min\u001b[39;00m \u001b[38;5;28mrange\u001b[39m(n):\n\u001b[0;32m     15\u001b[0m     \u001b[38;5;28;01mif\u001b[39;00m arr[i] \u001b[38;5;241m>\u001b[39m\u001b[38;5;241m=\u001b[39m \u001b[38;5;241m0\u001b[39m:\n\u001b[1;32m---> 16\u001b[0m         result[pos] \u001b[38;5;241m=\u001b[39m arr[i]\n\u001b[0;32m     17\u001b[0m         pos \u001b[38;5;241m+\u001b[39m\u001b[38;5;241m=\u001b[39m \u001b[38;5;241m2\u001b[39m\n\u001b[0;32m     18\u001b[0m     \u001b[38;5;28;01melse\u001b[39;00m:\n",
      "\u001b[1;31mIndexError\u001b[0m: list assignment index out of range"
     ]
    }
   ],
   "source": [
    "def rearrange_array(arr):\n",
    "    n = len(arr)\n",
    "    if n <= 1:\n",
    "        return arr\n",
    "\n",
    "    # Create an auxiliary array to store the rearranged elements\n",
    "    result = [None] * n\n",
    "\n",
    "    # Initialize indexes for positive and negative numbers\n",
    "    pos, neg = 0, 1\n",
    "\n",
    "    # Traverse the array and place positive numbers at even indexes\n",
    "    # and negative numbers at odd indexes\n",
    "    for i in range(n):\n",
    "        if arr[i] >= 0:\n",
    "            result[pos] = arr[i]\n",
    "            pos += 2\n",
    "        else:\n",
    "            result[neg] = arr[i]\n",
    "            neg += 2\n",
    "\n",
    "    return result\n",
    "\n",
    "# Example usage\n",
    "arr = [-1, 2, -3, 4, 5, 6, -7, 8, 9]\n",
    "result = rearrange_array(arr)\n",
    "print(result)\n"
   ]
  },
  {
   "cell_type": "code",
   "execution_count": null,
   "metadata": {},
   "outputs": [
    {
     "name": "stdout",
     "output_type": "stream",
     "text": [
      "True\n"
     ]
    }
   ],
   "source": [
    "#check binary tree is bst or not\n",
    "class TreeNode:\n",
    "    def __init__(self, value=0, left=None, right=None):\n",
    "        self.value = value\n",
    "        self.left = left\n",
    "        self.right = right\n",
    "\n",
    "def is_bst(root, min_val=float('-inf'), max_val=float('inf')):\n",
    "    if root is None:\n",
    "        return True\n",
    "    if root.value <= min_val or root.value >= max_val:\n",
    "        return False\n",
    "    return is_bst(root.left, min_val, root.value) and is_bst(root.right, root.value, max_val)\n",
    "\n",
    "# Example usage\n",
    "root = TreeNode(2)\n",
    "root.left = TreeNode(1)\n",
    "root.right = TreeNode(3)\n",
    "\n",
    "print(is_bst(root))  # Output: True\n"
   ]
  },
  {
   "cell_type": "code",
   "execution_count": null,
   "metadata": {},
   "outputs": [
    {
     "name": "stdout",
     "output_type": "stream",
     "text": [
      "True\n"
     ]
    }
   ],
   "source": [
    "class ListNode:\n",
    "    def __init__(self, val=0, next=None):\n",
    "        self.val = val\n",
    "        self.next = next\n",
    "\n",
    "def has_cycle(head):\n",
    "    if head is None or head.next is None:\n",
    "        return False\n",
    "\n",
    "    slow = head\n",
    "    fast = head.next\n",
    "\n",
    "    while slow != fast:\n",
    "        if fast is None or fast.next is None:\n",
    "            return False\n",
    "        slow = slow.next\n",
    "        fast = fast.next.next\n",
    "\n",
    "    return True\n",
    "\n",
    "# Example usage\n",
    "# Create a linked list with a loop\n",
    "head =  ListNode(1)\n",
    "node2 = ListNode(2)\n",
    "node3 = ListNode(3)\n",
    "node4 = ListNode(4)\n",
    "node5 = ListNode(5)\n",
    "node6 = ListNode(6)\n",
    "node7 = ListNode(7)\n",
    "\n",
    "head.next = node2\n",
    "node2.next = node3\n",
    "node3.next = node4\n",
    "node4.next = node5\n",
    "node5.next = node6\n",
    "node6.next = node3  # Create a loop\n",
    "\n",
    "print(has_cycle(head))  # Output: True\n"
   ]
  },
  {
   "cell_type": "code",
   "execution_count": null,
   "metadata": {},
   "outputs": [
    {
     "name": "stdout",
     "output_type": "stream",
     "text": [
      "120\n"
     ]
    }
   ],
   "source": [
    "def factorial_recursive(n):\n",
    "    if n == 0:\n",
    "        return 1\n",
    "    return n * factorial_recursive(n - 1)\n",
    "\n",
    "# Example usage\n",
    "print(factorial_recursive(5))  # Output: 120\n"
   ]
  },
  {
   "cell_type": "code",
   "execution_count": null,
   "metadata": {},
   "outputs": [],
   "source": [
    "#size of a binary tree\n",
    "class TreeNode:\n",
    "    def __init__(self, value=0, left=None, right=None):\n",
    "        self.value = value\n",
    "        self.left = left\n",
    "        self.right = right\n",
    "\n",
    "def size_recursive(root):\n",
    "    if root is None:\n",
    "        return 0\n",
    "    return 1 + size_recursive(root.left) + size_recursive(root.right)\n",
    "\n",
    "def size_iterative(root):\n",
    "    if root is None:\n",
    "        return 0\n",
    "    stack = [root]\n",
    "    size = 0\n",
    "    while stack:\n",
    "        node = stack.pop()\n",
    "        size += 1\n",
    "        if node.left:\n",
    "            stack.append(node.left)\n",
    "        if node.right:\n",
    "            stack.append(node.right)\n",
    "    return size\n",
    "\n",
    "# Example usage\n",
    "root = TreeNode(1)\n",
    "root.left = TreeNode(2)\n",
    "root.right = TreeNode(3)\n",
    "root.left.left = TreeNode(4)\n",
    "root.left.right = TreeNode(5)\n",
    "\n",
    "print(size_recursive(root))  # Output: 5\n",
    "print(size_iterative(root))  # Output: 5\n"
   ]
  },
  {
   "cell_type": "code",
   "execution_count": null,
   "metadata": {},
   "outputs": [
    {
     "name": "stdout",
     "output_type": "stream",
     "text": [
      "Original linked list:\n",
      "1 2 3 4 \n",
      "Reversed linked list:\n",
      "4 3 2 1 \n"
     ]
    }
   ],
   "source": [
    "#reverse_linked_list\n",
    "class Node:\n",
    "    def __init__(self, value=0, next=None):\n",
    "        self.value = value\n",
    "        self.next = next\n",
    "\n",
    "def reverse_linked_list(head):\n",
    "    prev = None\n",
    "    current = head\n",
    "    while current is not None:\n",
    "        next_node = current.next\n",
    "        current.next = prev\n",
    "        prev = current\n",
    "        current = next_node\n",
    "    return prev\n",
    "\n",
    "def print_linked_list(head):\n",
    "    current = head\n",
    "    while current is not None:\n",
    "        print(current.value, end=\" \")\n",
    "        current = current.next\n",
    "    print()\n",
    "\n",
    "# Example usage\n",
    "head = Node(1)\n",
    "head.next = Node(2)\n",
    "head.next.next = Node(3)\n",
    "head.next.next.next = Node(4)\n",
    "\n",
    "print(\"Original linked list:\")\n",
    "print_linked_list(head)\n",
    "\n",
    "reversed_head = reverse_linked_list(head)\n",
    "\n",
    "print(\"Reversed linked list:\")\n",
    "print_linked_list(reversed_head)\n"
   ]
  },
  {
   "cell_type": "code",
   "execution_count": 1,
   "metadata": {},
   "outputs": [
    {
     "name": "stdout",
     "output_type": "stream",
     "text": [
      "[0, 0, 0, 7, 5, 3, 1]\n"
     ]
    }
   ],
   "source": [
    "def move_zeros_to_start(arr):\n",
    "    if not arr:\n",
    "        return arr\n",
    "\n",
    "    length = len(arr)\n",
    "    result = [0] * length\n",
    "    zero_index = 0\n",
    "\n",
    "    for num in arr:\n",
    "        if num == 0:\n",
    "            result[zero_index] = 0\n",
    "            zero_index += 1\n",
    "\n",
    "    non_zero_index = length - 1\n",
    "\n",
    "    for num in arr:\n",
    "        if num != 0:\n",
    "            result[non_zero_index] = num\n",
    "            non_zero_index -= 1\n",
    "\n",
    "    return result\n",
    "\n",
    "# Test the function\n",
    "arr = [1, 0, 3, 0, 5, 0, 7]\n",
    "result = move_zeros_to_start(arr)\n",
    "print(result)\n"
   ]
  },
  {
   "cell_type": "code",
   "execution_count": null,
   "metadata": {},
   "outputs": [],
   "source": [
    "class A:\n",
    "    def method(self):\n",
    "        print(\"A method\")\n",
    "\n",
    "class B(A):\n",
    "    def method(self):\n",
    "        print(\"B method\")\n",
    "\n",
    "class C(A):\n",
    "    def method(self):\n",
    "        print(\"C method\")\n",
    "\n",
    "class D(B, C):\n",
    "    pass\n",
    "\n",
    "d = D()\n",
    "d.method()\n"
   ]
  },
  {
   "cell_type": "code",
   "execution_count": null,
   "metadata": {},
   "outputs": [
    {
     "name": "stdout",
     "output_type": "stream",
     "text": [
      "1 2 3 \n"
     ]
    }
   ],
   "source": [
    "#CircularLinkedList\n",
    "class Node:\n",
    "    def __init__(self, data):\n",
    "        self.data = data\n",
    "        self.next = None\n",
    "\n",
    "class CircularLinkedList:\n",
    "    def __init__(self):\n",
    "        self.head = None\n",
    "\n",
    "    def append(self, data):\n",
    "        new_node = Node(data)\n",
    "        if not self.head:\n",
    "            self.head = new_node\n",
    "            self.head.next = self.head\n",
    "        else:\n",
    "            current = self.head\n",
    "            while current.next != self.head:\n",
    "                current = current.next\n",
    "            current.next = new_node\n",
    "            new_node.next = self.head\n",
    "\n",
    "    def print_list(self):\n",
    "        if not self.head:\n",
    "            print(\"List is empty\")\n",
    "            return\n",
    "        current = self.head\n",
    "        while True:\n",
    "            print(current.data, end=\" \")\n",
    "            current = current.next\n",
    "            if current == self.head:\n",
    "                break\n",
    "        print()\n",
    "\n",
    "# Example usage\n",
    "cll = CircularLinkedList()\n",
    "cll.append(1)\n",
    "cll.append(2)\n",
    "cll.append(3)\n",
    "\n",
    "cll.print_list()  # Output: 1 2 3\n"
   ]
  },
  {
   "cell_type": "code",
   "execution_count": null,
   "metadata": {},
   "outputs": [
    {
     "name": "stdout",
     "output_type": "stream",
     "text": [
      "True\n"
     ]
    }
   ],
   "source": [
    "\n",
    "class Node:\n",
    "    def __init__(self, data):\n",
    "        self.data = data\n",
    "        self.next = None\n",
    "\n",
    "def is_circular_linked_list(head):\n",
    "    if not head:\n",
    "        return False\n",
    "\n",
    "    slow = head\n",
    "    fast = head.next\n",
    "\n",
    "    while fast and fast.next:\n",
    "        if slow == fast:\n",
    "            return True\n",
    "        slow = slow.next\n",
    "        fast = fast.next.next\n",
    "\n",
    "    return False\n",
    "\n",
    "# Example usage\n",
    "# Create a circular linked list\n",
    "head = Node(1)\n",
    "head.next = Node(2)\n",
    "head.next.next = Node(3)\n",
    "head.next.next.next = head  # Circular reference\n",
    "\n",
    "print(is_circular_linked_list(head))  # Output: True\n"
   ]
  },
  {
   "cell_type": "code",
   "execution_count": null,
   "metadata": {},
   "outputs": [
    {
     "name": "stdout",
     "output_type": "stream",
     "text": [
      "Binary sum: 00000010\n",
      "Carry count: 1\n"
     ]
    }
   ],
   "source": [
    "def hex_to_bin(hex_num):\n",
    "    # Convert hexadecimal number to binary\n",
    "    bin_num = bin(int(hex_num, 16))[2:]\n",
    "    return bin_num.zfill(len(hex_num) * 4)\n",
    "\n",
    "def add_hex(hex1, hex2):\n",
    "    # Convert hexadecimal numbers to binary\n",
    "    bin1 = hex_to_bin(hex1)\n",
    "    bin2 = hex_to_bin(hex2)\n",
    "\n",
    "    # Add the binary numbers\n",
    "    carry = 0\n",
    "    result = ''\n",
    "    for bit1, bit2 in zip(reversed(bin1), reversed(bin2)):\n",
    "        sum_bits = int(bit1) + int(bit2) + carry\n",
    "        result = str(sum_bits % 2) + result\n",
    "        carry = sum_bits // 2\n",
    "\n",
    "    # Return the binary sum and count of carries\n",
    "    return result, bin(carry).count('1')\n",
    "\n",
    "# Example usage\n",
    "hex_num1 = \"A3\"\n",
    "hex_num2 = \"5F\"\n",
    "binary_sum, carry_count = add_hex(hex_num1, hex_num2)\n",
    "print(\"Binary sum:\", binary_sum)\n",
    "print(\"Carry count:\", carry_count)\n"
   ]
  },
  {
   "cell_type": "code",
   "execution_count": null,
   "metadata": {},
   "outputs": [
    {
     "name": "stdout",
     "output_type": "stream",
     "text": [
      "1 2 4 5 \n"
     ]
    }
   ],
   "source": [
    "#Here's the recursive code to delete the nth last node from a linked list using the head:\n",
    "\n",
    "class Node:\n",
    "    def __init__(self, data):\n",
    "        self.data = data\n",
    "        self.next = None\n",
    "\n",
    "def delete_nth_from_end(head, n):\n",
    "    def helper(node):\n",
    "        if not node:\n",
    "            return 0\n",
    "        position_from_end = helper(node.next) + 1\n",
    "        if position_from_end == n + 1:\n",
    "            # Node to be deleted is the nth from the end\n",
    "            node.next = node.next.next\n",
    "        return position_from_end\n",
    "\n",
    "    dummy = Node(0)\n",
    "    dummy.next = head\n",
    "    helper(dummy)\n",
    "    return dummy.next\n",
    "\n",
    "# Function to print the linked list\n",
    "def print_linked_list(head):\n",
    "    current = head\n",
    "    while current:\n",
    "        print(current.data, end=\" \")\n",
    "        current = current.next\n",
    "    print()\n",
    "\n",
    "# Example usage\n",
    "head = Node(1)\n",
    "head.next = Node(2)\n",
    "head.next.next = Node(3)\n",
    "head.next.next.next = Node(4)\n",
    "head.next.next.next.next = Node(5)\n",
    "\n",
    "n = 3\n",
    "head = delete_nth_from_end(head, n)\n",
    "\n",
    "print_linked_list(head)  # Output: 1 2 3 5\n"
   ]
  },
  {
   "cell_type": "code",
   "execution_count": null,
   "metadata": {},
   "outputs": [
    {
     "name": "stdout",
     "output_type": "stream",
     "text": [
      "{(8, 2), (9, 1), (6, 4), (7, 3)}\n"
     ]
    }
   ],
   "source": [
    "def find_pairs(nums):\n",
    "    seen = set()\n",
    "    pairs = set()\n",
    "\n",
    "    for num in nums:\n",
    "        complement = 10 - num\n",
    "        if complement in seen and (complement, num) not in pairs:\n",
    "            pairs.add((num, complement))\n",
    "        seen.add(num)\n",
    "\n",
    "    return pairs\n",
    "\n",
    "# Example usage\n",
    "nums = [1, 2, 3, 4, 5, 6, 7, 8, 9, 10]\n",
    "result = find_pairs(nums)\n",
    "print(result)\n"
   ]
  },
  {
   "cell_type": "code",
   "execution_count": null,
   "metadata": {},
   "outputs": [
    {
     "name": "stdout",
     "output_type": "stream",
     "text": [
      "{(3, 7), (4, 6), (1, 9), (2, 8)}\n"
     ]
    }
   ],
   "source": [
    "def find_pairs(nums):\n",
    "    pairs = set()\n",
    "\n",
    "    for i in range(len(nums)):\n",
    "        for j in range(i+1, len(nums)):\n",
    "            if nums[i] + nums[j] == 10 and nums[i] != nums[j] and not (nums[i] == 0 or nums[j] == 0 or nums[i] == 10 or nums[j] == 10):\n",
    "                pairs.add((nums[i], nums[j]))\n",
    "\n",
    "    return pairs\n",
    "\n",
    "# Example usage\n",
    "nums = [1, 2, 3, 4, 5, 6, 7, 8, 9, 10]\n",
    "result = find_pairs(nums)\n",
    "print(result)\n"
   ]
  },
  {
   "cell_type": "code",
   "execution_count": null,
   "metadata": {},
   "outputs": [
    {
     "name": "stdout",
     "output_type": "stream",
     "text": [
      "Pop: 3\n",
      "Top: 2\n",
      "Is empty: False\n"
     ]
    }
   ],
   "source": [
    "from collections import deque\n",
    "\n",
    "class StackWithQueue:\n",
    "    def __init__(self):\n",
    "        self.push_queue = deque()\n",
    "        self.pop_queue = deque()\n",
    "\n",
    "    def push(self, item):\n",
    "        self.push_queue.append(item)\n",
    "\n",
    "    def pop(self):\n",
    "        if not self.push_queue:\n",
    "            raise IndexError(\"pop from empty stack\")\n",
    "        \n",
    "        while len(self.push_queue) > 1:\n",
    "            self.pop_queue.append(self.push_queue.popleft())\n",
    "        \n",
    "        item = self.push_queue.popleft()\n",
    "        self.push_queue, self.pop_queue = self.pop_queue, self.push_queue\n",
    "        return item\n",
    "\n",
    "    def top(self):\n",
    "        if not self.push_queue:\n",
    "            raise IndexError(\"stack is empty\")\n",
    "        \n",
    "        while len(self.push_queue) > 1:\n",
    "            self.pop_queue.append(self.push_queue.popleft())\n",
    "        \n",
    "        item = self.push_queue[0]\n",
    "        self.pop_queue.append(self.push_queue.popleft())\n",
    "        self.push_queue, self.pop_queue = self.pop_queue, self.push_queue\n",
    "        return item\n",
    "\n",
    "    def is_empty(self):\n",
    "        return not self.push_queue\n",
    "\n",
    "# Example usage\n",
    "stack = StackWithQueue()\n",
    "stack.push(1)\n",
    "stack.push(2)\n",
    "stack.push(3)\n",
    "\n",
    "print(\"Pop:\", stack.pop())  # Output: 3\n",
    "print(\"Top:\", stack.top())  # Output: 2\n",
    "print(\"Is empty:\", stack.is_empty())  # Output: False\n"
   ]
  },
  {
   "cell_type": "code",
   "execution_count": null,
   "metadata": {},
   "outputs": [],
   "source": [
    "#Stack with queue \n",
    "from collections import deque\n",
    "\n",
    "class StackWithQueue:\n",
    "    def __init__(self):\n",
    "        self.queue = deque()\n",
    "\n",
    "    def push(self, item):\n",
    "        self.queue.append(item)\n",
    "\n",
    "    def pop(self):\n",
    "        if not self.queue:\n",
    "            raise IndexError(\"pop from empty stack\")\n",
    "        \n",
    "        # Dequeue all elements except the last one\n",
    "        for _ in range(len(self.queue) - 1):\n",
    "            self.queue.append(self.queue.popleft())\n",
    "        \n",
    "        # Dequeue and return the last element\n",
    "        return self.queue.popleft()\n",
    "\n",
    "    def top(self):\n",
    "        if not self.queue:\n",
    "            raise IndexError(\"stack is empty\")\n",
    "        \n",
    "        # Dequeue all elements except the last one\n",
    "        for _ in range(len(self.queue) - 1):\n",
    "            self.queue.append(self.queue.popleft())\n",
    "        \n",
    "        # Dequeue, store, and enqueue the last element\n",
    "        top_element = self.queue.popleft()\n",
    "        self.queue.append(top_element)\n",
    "        \n",
    "        return top_element\n",
    "\n",
    "    def is_empty(self):\n",
    "        return not self.queue\n"
   ]
  },
  {
   "cell_type": "code",
   "execution_count": null,
   "metadata": {},
   "outputs": [
    {
     "name": "stdout",
     "output_type": "stream",
     "text": [
      "[10, 11, 0, -1, 3]\n"
     ]
    }
   ],
   "source": [
    "def find_largest_sum_subarray(arr):\n",
    "    if not arr:\n",
    "        return []\n",
    "\n",
    "    max_sum = arr[0]\n",
    "    current_sum = arr[0]\n",
    "    start_index = 0\n",
    "    end_index = 0\n",
    "    current_start_index = 0\n",
    "\n",
    "    for i in range(1, len(arr)):\n",
    "        if arr[i] > current_sum + arr[i]:\n",
    "            current_sum = arr[i]\n",
    "            current_start_index = i\n",
    "        else:\n",
    "            current_sum += arr[i]\n",
    "\n",
    "        if current_sum > max_sum:\n",
    "            max_sum = current_sum\n",
    "            start_index = current_start_index\n",
    "            end_index = i\n",
    "\n",
    "    return arr[start_index:end_index + 1]\n",
    "\n",
    "# Example usage\n",
    "arr = [1, 2, -3, 4, -6, 0, 8, -15, 10, 11, 0, -1, 3, -10, 5]\n",
    "result = find_largest_sum_subarray(arr)\n",
    "print(result)\n"
   ]
  },
  {
   "cell_type": "code",
   "execution_count": null,
   "metadata": {},
   "outputs": [
    {
     "name": "stdout",
     "output_type": "stream",
     "text": [
      "1 2 4 5 "
     ]
    }
   ],
   "source": [
    "class Node:\n",
    "    def __init__(self, data):\n",
    "        self.data = data\n",
    "        self.next = None\n",
    "\n",
    "def delete_node(node):\n",
    "    if not node or not node.next:\n",
    "        return False  # Cannot delete the last node or a null node\n",
    "\n",
    "    next_node = node.next\n",
    "    node.data = next_node.data\n",
    "    node.next = next_node.next\n",
    "    del next_node\n",
    "    return True\n",
    "\n",
    "# Example usage\n",
    "# Create a linked list: 1 -> 2 -> 3 -> 4 -> 5\n",
    "head = Node(1)\n",
    "head.next = Node(2)\n",
    "head.next.next = Node(3)\n",
    "head.next.next.next = Node(4)\n",
    "head.next.next.next.next = Node(5)\n",
    "\n",
    "# Delete the node with data 3\n",
    "node_to_delete = head.next.next  # Node with data 3\n",
    "delete_node(node_to_delete)\n",
    "\n",
    "# Print the modified linked list\n",
    "current = head\n",
    "while current:\n",
    "    print(current.data, end=\" \")\n",
    "    current = current.next\n",
    "# Output: 1 2 4 5\n"
   ]
  },
  {
   "cell_type": "code",
   "execution_count": null,
   "metadata": {},
   "outputs": [
    {
     "name": "stdout",
     "output_type": "stream",
     "text": [
      "1 -> 2 -> 4 -> 5 -> None\n"
     ]
    }
   ],
   "source": [
    "class Node:\n",
    "    def __init__(self, data):\n",
    "        self.data = data\n",
    "        self.next = None\n",
    "\n",
    "def delete_node(node):\n",
    "    if not node or not node.next:\n",
    "        return False  # Can't delete the last node or if node is None\n",
    "\n",
    "    node.data = node.next.data  # Copy data from next node to current node\n",
    "    node.next = node.next.next  # Delete the next node\n",
    "\n",
    "    return True\n",
    "\n",
    "# Example usage\n",
    "# Create a linked list: 1 -> 2 -> 3 -> 4 -> 5\n",
    "head = Node(1)\n",
    "head.next = Node(2)\n",
    "head.next.next = Node(3)\n",
    "head.next.next.next = Node(4)\n",
    "head.next.next.next.next = Node(5)\n",
    "\n",
    "# Suppose we want to delete node with data 3\n",
    "delete_node(head.next.next)\n",
    "\n",
    "# Print the updated linked list: 1 -> 2 -> 4 -> 5\n",
    "current_node = head\n",
    "while current_node:\n",
    "    print(current_node.data, end=' -> ')\n",
    "    current_node = current_node.next\n",
    "print(\"None\")\n"
   ]
  },
  {
   "cell_type": "code",
   "execution_count": 42,
   "metadata": {},
   "outputs": [
    {
     "name": "stdout",
     "output_type": "stream",
     "text": [
      "Element found at index 10\n"
     ]
    }
   ],
   "source": []
  },
  {
   "cell_type": "code",
   "execution_count": null,
   "metadata": {},
   "outputs": [],
   "source": [
    "#find a number n in a sorted array of infinite size with a time complexity better than O(n),\n",
    "def binary_search(arr, low, high, n):\n",
    "    while low <= high:\n",
    "        mid = low + (high - low) // 2\n",
    "        if arr[mid] == n:\n",
    "            return mid\n",
    "        elif arr[mid] < n:\n",
    "            low = mid + 1\n",
    "        else:\n",
    "            high = mid - 1\n",
    "    return -1\n",
    "\n",
    "def find_in_infinite_array(arr, n):\n",
    "    low, high = 0, 1\n",
    "\n",
    "    # Double the high pointer until we find a value greater than or equal to n\n",
    "    while arr[high] < n:\n",
    "        low = high\n",
    "        high = high * 2\n",
    "\n",
    "    # Perform binary search between low and high\n",
    "    return binary_search(arr, low, high, n)\n",
    "\n",
    "# Example usage\n",
    "arr = [2, 4, 6, 8, 10, 12, 14, 16, 18, 20, 22, 24, 26, 28, 30, 32, 34, 36, 38, 40]\n",
    "n = 22\n",
    "index = find_in_infinite_array(arr, n)\n",
    "if index != -1:\n",
    "    print(f\"Element found at index {index}\")\n",
    "else:\n",
    "    print(\"Element not found\")\n"
   ]
  },
  {
   "cell_type": "code",
   "execution_count": null,
   "metadata": {},
   "outputs": [],
   "source": [
    "#include <iostream>\n",
    "\n",
    "class A {\n",
    "public:\n",
    "    A() { std::cout << \"Constructing A\" << std::endl; }\n",
    "    ~A() { std::cout << \"Destructing A\" << std::endl; }\n",
    "};\n",
    "\n",
    "class B {\n",
    "public:\n",
    "    B() { std::cout << \"Constructing B\" << std::endl; }\n",
    "    ~B() { std::cout << \"Destructing B\" << std::endl; }\n",
    "};\n",
    "\n",
    "class C : public A, public B {\n",
    "public:\n",
    "    C() { std::cout << \"Constructing C\" << std::endl; }\n",
    "    ~C() { std::cout << \"Destructing C\" << std::endl; }\n",
    "};\n",
    "\n",
    "int main() {\n",
    "    C c;\n",
    "    return 0;\n",
    "}\n"
   ]
  },
  {
   "cell_type": "code",
   "execution_count": null,
   "metadata": {},
   "outputs": [],
   "source": [
    "Constructing A\n",
    "Constructing B\n",
    "Constructing C\n",
    "Destructing C\n",
    "Destructing B\n",
    "Destructing A\n"
   ]
  },
  {
   "cell_type": "code",
   "execution_count": null,
   "metadata": {},
   "outputs": [],
   "source": [
    "void deleteNode(ListNode* head, int pos) {\n",
    "    ListNode* temp = head;\n",
    "    if (pos == 0) {\n",
    "        head = temp->next;\n",
    "        delete temp;\n",
    "        return;\n",
    "    }\n",
    "\n",
    "    for (int i = 0; temp != nullptr && i < pos - 1; i++) {\n",
    "        temp = temp->next;\n",
    "    }\n",
    "\n",
    "    if (temp == nullptr || temp->next == nullptr) {\n",
    "        return;\n",
    "    }\n",
    "\n",
    "    ListNode* next = temp->next->next;\n",
    "    delete temp->next;\n",
    "    temp->next = next;\n",
    "}\n"
   ]
  },
  {
   "cell_type": "code",
   "execution_count": null,
   "metadata": {},
   "outputs": [],
   "source": [
    "#include <iostream>\n",
    "\n",
    "struct ListNode {\n",
    "    int val;\n",
    "    ListNode* next;\n",
    "    ListNode(int x) : val(x), next(nullptr) {}\n",
    "};\n",
    "\n",
    "ListNode* findMiddle(ListNode* head) {\n",
    "    if (head == nullptr) {\n",
    "        return nullptr;\n",
    "    }\n",
    "\n",
    "    ListNode* slow = head;\n",
    "    ListNode* fast = head;\n",
    "\n",
    "    while (fast != nullptr && fast->next != nullptr) {\n",
    "        slow = slow->next;\n",
    "        fast = fast->next->next;\n",
    "    }\n",
    "\n",
    "    return slow;\n",
    "}\n",
    "\n",
    "int main() {\n",
    "    ListNode* head = new ListNode(1);\n",
    "    head->next = new ListNode(2);\n",
    "    head->next->next = new ListNode(3);\n",
    "    head->next->next->next = new ListNode(4);\n",
    "    head->next->next->next->next = new ListNode(5);\n",
    "\n",
    "    ListNode* middle = findMiddle(head);\n",
    "    if (middle != nullptr) {\n",
    "        std::cout << \"Middle element: \" << middle->val << std::endl;\n",
    "    } else {\n",
    "        std::cout << \"List is empty\" << std::endl;\n",
    "    }\n",
    "\n",
    "    return 0;\n",
    "}\n"
   ]
  },
  {
   "cell_type": "code",
   "execution_count": 2,
   "metadata": {},
   "outputs": [
    {
     "name": "stdout",
     "output_type": "stream",
     "text": [
      "[0, 0, 0, 7, 5, 3, 1]\n"
     ]
    }
   ],
   "source": [
    "def move_zeros_to_start(arr):\n",
    "    if not arr:\n",
    "        return arr\n",
    "\n",
    "    length = len(arr)\n",
    "    result = [0] * length\n",
    "    zero_index = 0\n",
    "\n",
    "    for num in arr:\n",
    "        if num == 0:\n",
    "            result[zero_index] = 0\n",
    "            zero_index += 1\n",
    "\n",
    "    non_zero_index = length - 1\n",
    "\n",
    "    for num in arr:\n",
    "        if num != 0:\n",
    "            result[non_zero_index] = num\n",
    "            non_zero_index -= 1\n",
    "\n",
    "    return result\n",
    "\n",
    "# Test the function\n",
    "arr = [1, 0, 3, 0, 5, 0, 7]\n",
    "result = move_zeros_to_start(arr)\n",
    "print(result)\n"
   ]
  },
  {
   "cell_type": "code",
   "execution_count": null,
   "metadata": {},
   "outputs": [],
   "source": [
    "def move_zeros_to_start(arr):\n",
    "    if not arr:\n",
    "        return arr\n",
    "\n",
    "    length = len(arr)\n",
    "    zero_index = 0\n",
    "\n",
    "    for i in range(length):\n",
    "        if arr[i] == 0:\n",
    "            # Swap arr[i] with arr[zero_index]\n",
    "            arr[i], arr[zero_index] = arr[zero_index], arr[i]\n",
    "            zero_index += 1\n",
    "\n",
    "    return arr\n",
    "\n",
    "# Test the function\n",
    "arr = [1, 0, 3, 0, 5, 0, 7]\n",
    "move_zeros_to_start(arr)\n",
    "print(arr)\n"
   ]
  }
 ],
 "metadata": {
  "kernelspec": {
   "display_name": "base",
   "language": "python",
   "name": "python3"
  },
  "language_info": {
   "codemirror_mode": {
    "name": "ipython",
    "version": 3
   },
   "file_extension": ".py",
   "mimetype": "text/x-python",
   "name": "python",
   "nbconvert_exporter": "python",
   "pygments_lexer": "ipython3",
   "version": "3.11.5"
  }
 },
 "nbformat": 4,
 "nbformat_minor": 2
}
