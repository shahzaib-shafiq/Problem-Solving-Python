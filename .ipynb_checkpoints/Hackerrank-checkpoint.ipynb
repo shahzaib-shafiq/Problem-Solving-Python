{
 "cells": [
  {
   "cell_type": "markdown",
   "id": "dc07d24a",
   "metadata": {},
   "source": [
    "## return active_customers returns the final list of active customers \n",
    "## who meet the criteria of having at least 5% of the total trades,\n",
    "## sorted alphabetically"
   ]
  },
  {
   "cell_type": "code",
   "execution_count": 7,
   "id": "19d932ea",
   "metadata": {},
   "outputs": [
    {
     "name": "stdout",
     "output_type": "stream",
     "text": [
      "['Acme', 'Bigcorp', 'Zork']\n"
     ]
    }
   ],
   "source": [
    "\n",
    "\n",
    "from collections import Counter\n",
    "\n",
    "def mostActive(customers):\n",
    "    # Count the number of trades for each customer\n",
    "    trade_counts = Counter(customers)\n",
    "    total_trades = len(customers)\n",
    "    \n",
    "    # Calculate the threshold for 5% of total trades\n",
    "    threshold = total_trades * 0.05\n",
    "    \n",
    "    # Filter customers who have at least 5% of trades\n",
    "    active_customers = [customer for customer, count in trade_counts.items() if count >= threshold]\n",
    "    \n",
    "    # Sort the list alphabetically\n",
    "    active_customers.sort()\n",
    "    \n",
    "    return active_customers\n",
    "\n",
    "# Example usage\n",
    "n = 23\n",
    "customers = ['Bigcorp', 'Bigcorp', 'Acme', 'Bigcorp', 'Zork', 'Zork', 'Abc', 'Bigcorp', 'Acme', 'Bigcorp', 'Bigcorp', 'Zork', 'Bigcorp', 'Zork', 'Zork', 'Bigcorp', 'Acme', 'Вісо', 'Асте', 'Bigcorp', 'Acme', 'Littlecorp', 'Nadircorp']\n",
    "print(mostActive(customers))\n"
   ]
  },
  {
   "cell_type": "markdown",
   "id": "e82a0c7d",
   "metadata": {},
   "source": [
    " ## Calculates the minimum total distance traveled by crews to reach repair points."
   ]
  },
  {
   "cell_type": "code",
   "execution_count": 3,
   "id": "47d19d08",
   "metadata": {},
   "outputs": [
    {
     "name": "stdout",
     "output_type": "stream",
     "text": [
      "[1, 3, 5]\n",
      "[3, 5, 7]\n",
      "[1, 3, 5]\n",
      "[3, 5, 7]\n",
      "[1, 3, 5]\n",
      "[3, 5, 7]\n",
      "6\n"
     ]
    }
   ],
   "source": [
    "def getMinCost(crewId, jobId):\n",
    "  \"\"\"\n",
    "  Calculates the minimum total distance traveled by crews to reach repair points.\n",
    "\n",
    "  Args:\n",
    "      crewId: A list of crew locations.\n",
    "      jobId: A list of repair point locations.\n",
    "\n",
    "  Returns:\n",
    "      The minimum total distance traveled.\n",
    "  \"\"\"\n",
    "\n",
    "  # Sort both lists in ascending order\n",
    "  crewId.sort()\n",
    "  jobId.sort()\n",
    "\n",
    "  total_distance = 0\n",
    "  # Iterate through both lists simultaneously\n",
    "  for i in range(len(crewId)):\n",
    "    print(crewId)\n",
    "    \n",
    "    print(jobId)\n",
    "    \n",
    "    # Calculate distance for each crew-point pair and add to total\n",
    "    total_distance += abs(crewId[i] - jobId[i])\n",
    "\n",
    "  return total_distance\n",
    "\n",
    "\n",
    "crewId = [1, 3, 5]\n",
    "jobId = [3, 5, 7]\n",
    "\n",
    "min_cost = getMinCost(crewId, jobId)\n",
    "print(min_cost)  # Output: 6\n"
   ]
  },
  {
   "cell_type": "code",
   "execution_count": null,
   "id": "c1429907",
   "metadata": {},
   "outputs": [],
   "source": []
  },
  {
   "cell_type": "code",
   "execution_count": null,
   "id": "c6472a88",
   "metadata": {},
   "outputs": [],
   "source": []
  },
  {
   "cell_type": "code",
   "execution_count": null,
   "id": "7de29706",
   "metadata": {},
   "outputs": [],
   "source": []
  },
  {
   "cell_type": "code",
   "execution_count": null,
   "id": "f725b149",
   "metadata": {},
   "outputs": [],
   "source": []
  }
 ],
 "metadata": {
  "kernelspec": {
   "display_name": "Python 3 (ipykernel)",
   "language": "python",
   "name": "python3"
  },
  "language_info": {
   "codemirror_mode": {
    "name": "ipython",
    "version": 3
   },
   "file_extension": ".py",
   "mimetype": "text/x-python",
   "name": "python",
   "nbconvert_exporter": "python",
   "pygments_lexer": "ipython3",
   "version": "3.11.5"
  }
 },
 "nbformat": 4,
 "nbformat_minor": 5
}
