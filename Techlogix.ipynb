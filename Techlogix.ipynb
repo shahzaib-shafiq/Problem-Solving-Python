{
 "cells": [
  {
   "cell_type": "code",
   "execution_count": null,
   "metadata": {},
   "outputs": [],
   "source": [
    "def string_to_int(s):\n",
    "    # Check if the string starts with a '-' sign\n",
    "    negative = False\n",
    "    if s.startswith('-'):\n",
    "        negative = True\n",
    "        s = s[1:]  # Remove the '-' sign from the string\n",
    "\n",
    "    # Convert the string to an integer\n",
    "    result = 0\n",
    "    for digit in s:\n",
    "        result = result * 10 + int(digit)\n",
    "\n",
    "    return -result if negative else result\n",
    "\n",
    "# Test the function\n",
    "s1 = \"1234\"\n",
    "s2 = \"-1234\"\n",
    "print(string_to_int(s1))  # Output: 1234\n",
    "print(string_to_int(s2))  # Output: -1234\n",
    "\n",
    "\n",
    "\n",
    "digit = '1'\n",
    "result = result * 10 + int(digit)\n",
    "# result = 0 * 10 + 1\n",
    "# result = 0 + 1\n",
    "# result = 1\n",
    "\n",
    "digit = '2'\n",
    "result = result * 10 + int(digit)\n",
    "# result = 1 * 10 + 2\n",
    "# result = 10 + 2\n",
    "# result = 12\n",
    "\n",
    "\n",
    "digit = '3'\n",
    "result = result * 10 + int(digit)\n",
    "# result = 12 * 10 + 3\n",
    "# result = 120 + 3\n",
    "# result = 123\n",
    "\n",
    "\n",
    "digit = '4'\n",
    "result = result * 10 + int(digit)\n",
    "# result = 123 * 10 + 4\n",
    "# result = 1230 + 4\n",
    "# result = 1234\n",
    "\n"
   ]
  },
  {
   "cell_type": "code",
   "execution_count": null,
   "metadata": {},
   "outputs": [],
   "source": [
    "def compute_x(y, z):\n",
    "    return y ** z\n",
    "\n",
    "# Example usage\n",
    "y = 2\n",
    "z = 3\n",
    "x = compute_x(y, z)\n",
    "print(x)  # Output: 8\n"
   ]
  },
  {
   "cell_type": "code",
   "execution_count": 2,
   "metadata": {},
   "outputs": [
    {
     "name": "stdout",
     "output_type": "stream",
     "text": [
      "4\n",
      "5\n"
     ]
    }
   ],
   "source": [
    "class Node:\n",
    "    def __init__(self, value):\n",
    "        self.value = value\n",
    "        self.next = None\n",
    "\n",
    "def print_from_nth_to_last(head, n):\n",
    "    # Step 1: Find the length of the linked list\n",
    "    length = 0\n",
    "    current = head\n",
    "    while current:\n",
    "        length += 1\n",
    "        current = current.next\n",
    "\n",
    "    # Step 2: Calculate the position of the nth to last element\n",
    "    target_pos = length - n\n",
    "\n",
    "    # Step 3: Traverse the list again and print values from target_pos onwards\n",
    "    current = head\n",
    "    pos = 0\n",
    "    while current:\n",
    "        if pos >= target_pos:\n",
    "            print(current.value)\n",
    "        pos += 1\n",
    "        current = current.next\n",
    "\n",
    "# Example usage\n",
    "head = Node(1)\n",
    "head.next = Node(2)\n",
    "head.next.next = Node(3)\n",
    "head.next.next.next = Node(4)\n",
    "head.next.next.next.next = Node(5)\n",
    "\n",
    "n = 2\n",
    "print_from_nth_to_last(head, n)\n"
   ]
  },
  {
   "cell_type": "code",
   "execution_count": 3,
   "metadata": {},
   "outputs": [
    {
     "name": "stdout",
     "output_type": "stream",
     "text": [
      "Before swapping: a=5, b=10\n",
      "After swapping: a=10, b=5\n"
     ]
    }
   ],
   "source": [
    "a = 5\n",
    "b = 10\n",
    "\n",
    "print(f\"Before swapping: a={a}, b={b}\")\n",
    "\n",
    "# Swap a and b without using another variable\n",
    "a = a + b\n",
    "b = a - b\n",
    "a = a - b\n",
    "\n",
    "print(f\"After swapping: a={a}, b={b}\")\n"
   ]
  },
  {
   "cell_type": "code",
   "execution_count": 4,
   "metadata": {},
   "outputs": [
    {
     "name": "stdout",
     "output_type": "stream",
     "text": [
      "[(1, 9), (2, 8), (3, 7), (4, 6)]\n"
     ]
    }
   ],
   "source": [
    "def find_pairs_with_sum_k(A, B, k):\n",
    "    pairs = []\n",
    "    for a in A:\n",
    "        for b in B:\n",
    "            if a + b == k:\n",
    "                pairs.append((a, b))\n",
    "    return pairs\n",
    "\n",
    "# Example usage\n",
    "A = [1, 2, 3, 4, 5]\n",
    "B = [6, 7, 8, 9, 10]\n",
    "k = 10\n",
    "pairs = find_pairs_with_sum_k(A, B, k)\n",
    "print(pairs)\n"
   ]
  },
  {
   "cell_type": "code",
   "execution_count": 5,
   "metadata": {},
   "outputs": [
    {
     "name": "stdout",
     "output_type": "stream",
     "text": [
      "[(1, 9), (2, 8), (3, 7), (4, 6)]\n"
     ]
    }
   ],
   "source": [
    "def find_pairs_with_sum_k(A, B, k):\n",
    "    pairs = []\n",
    "    set_B = set(B)\n",
    "    for a in A:\n",
    "        complement = k - a\n",
    "        if complement in set_B:\n",
    "            pairs.append((a, complement))\n",
    "    return pairs\n",
    "\n",
    "# Example usage\n",
    "A = [1, 2, 3, 4, 5]\n",
    "B = [6, 7, 8, 9, 10]\n",
    "k = 10\n",
    "pairs = find_pairs_with_sum_k(A, B, k)\n",
    "print(pairs)\n"
   ]
  },
  {
   "cell_type": "code",
   "execution_count": null,
   "metadata": {},
   "outputs": [],
   "source": [
    "def find_pairs_with_sum_k(A, B, k):\n",
    "    pairs = []\n",
    "    A.sort()\n",
    "    B.sort()\n",
    "    i = 0\n",
    "    j = len(B) - 1\n",
    "    while i < len(A) and j >= 0:\n",
    "        if A[i] + B[j] == k:\n",
    "            pairs.append((A[i], B[j]))\n",
    "            i += 1\n",
    "            j -= 1\n",
    "        elif A[i] + B[j] < k:\n",
    "            i += 1\n",
    "        else:\n",
    "            j -= 1\n",
    "    return pairs\n",
    "\n",
    "# Example usage\n",
    "A = [1, 2, 3, 4, 5]\n",
    "B = [6, 7, 8, 9, 10]\n",
    "k = 10\n",
    "pairs = find_pairs_with_sum_k(A, B, k)\n",
    "print(pairs)\n"
   ]
  },
  {
   "cell_type": "code",
   "execution_count": 9,
   "metadata": {},
   "outputs": [
    {
     "name": "stdout",
     "output_type": "stream",
     "text": [
      "18\n"
     ]
    }
   ],
   "source": [
    "import random\n",
    "\n",
    "def generate_random_20_to_50():\n",
    "    return random.randint(20, 50)\n",
    "\n",
    "def generate_random_10_to_70():\n",
    "    random_20_to_50 = generate_random_20_to_50()\n",
    "    # Scale the random number from 20-50 to 10-70\n",
    "    return int((random_20_to_50 - 20) * (70 - 10) / (50 - 20) + 10)\n",
    "\n",
    "# Example usage\n",
    "print(generate_random_10_to_70())\n"
   ]
  },
  {
   "cell_type": "code",
   "execution_count": 11,
   "metadata": {},
   "outputs": [
    {
     "name": "stdout",
     "output_type": "stream",
     "text": [
      "[6, 6, 5, 7, 8]\n"
     ]
    }
   ],
   "source": [
    "def max_in_sliding_window(arr, x):\n",
    "    n = len(arr)\n",
    "    result = []\n",
    "    if n < x:\n",
    "        return \"Invalid input\"\n",
    "\n",
    "    window = arr[:x]\n",
    "    max_val = max(window)\n",
    "    result.append(max_val)\n",
    "\n",
    "    for i in range(x, n):\n",
    "        if arr[i] >= max_val:\n",
    "            max_val = arr[i]\n",
    "        elif arr[i - x] == max_val:\n",
    "            max_val = max(arr[i - x + 1:i + 1])\n",
    "        result.append(max_val)\n",
    "\n",
    "    return result\n",
    "\n",
    "# Example usage\n",
    "arr = [1, 6, 5, 1, 3, 7, 8]\n",
    "x = 3\n",
    "print(max_in_sliding_window(arr, x))  # Output: [6, 6, 5, 7, 8]\n"
   ]
  },
  {
   "cell_type": "code",
   "execution_count": 12,
   "metadata": {},
   "outputs": [
    {
     "name": "stdout",
     "output_type": "stream",
     "text": [
      "True\n",
      "False\n"
     ]
    }
   ],
   "source": [
    "def is_palindrome(s):\n",
    "    # Convert the string to lowercase and remove non-alphanumeric characters\n",
    "    s = ''.join(e for e in s if e.isalnum()).lower()\n",
    "    return s == s[::-1]\n",
    "\n",
    "# Example usage\n",
    "s1 = \"A man, a plan, a canal: Panama\"\n",
    "s2 = \"race a car\"\n",
    "print(is_palindrome(s1))  # Output: True\n",
    "print(is_palindrome(s2))  # Output: False\n"
   ]
  },
  {
   "cell_type": "code",
   "execution_count": 13,
   "metadata": {},
   "outputs": [
    {
     "name": "stdout",
     "output_type": "stream",
     "text": [
      "True\n",
      "False\n"
     ]
    }
   ],
   "source": [
    "def is_palindrome(s):\n",
    "    # Remove non-alphanumeric characters and convert to lowercase\n",
    "    s = ''.join(e for e in s if e.isalnum()).lower()\n",
    "    \n",
    "    stack = []\n",
    "    mid = len(s) // 2\n",
    "\n",
    "    # Push the first half of the characters onto the stack\n",
    "    for i in range(mid):\n",
    "        stack.append(s[i])\n",
    "\n",
    "    # Check if the string has odd length\n",
    "    if len(s) % 2 != 0:\n",
    "        mid += 1\n",
    "\n",
    "    # Pop and compare the characters with the second half of the string\n",
    "    for i in range(mid, len(s)):\n",
    "        if stack.pop() != s[i]:\n",
    "            return False\n",
    "\n",
    "    return True\n",
    "\n",
    "# Example usage\n",
    "s1 = \"A man, a plan, a canal: Panama\"\n",
    "s2 = \"race a car\"\n",
    "print(is_palindrome(s1))  # Output: True\n",
    "print(is_palindrome(s2))  # Output: False\n"
   ]
  },
  {
   "cell_type": "code",
   "execution_count": null,
   "metadata": {},
   "outputs": [],
   "source": []
  }
 ],
 "metadata": {
  "kernelspec": {
   "display_name": "base",
   "language": "python",
   "name": "python3"
  },
  "language_info": {
   "codemirror_mode": {
    "name": "ipython",
    "version": 3
   },
   "file_extension": ".py",
   "mimetype": "text/x-python",
   "name": "python",
   "nbconvert_exporter": "python",
   "pygments_lexer": "ipython3",
   "version": "3.11.5"
  }
 },
 "nbformat": 4,
 "nbformat_minor": 2
}
