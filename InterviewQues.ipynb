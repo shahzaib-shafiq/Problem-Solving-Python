{
 "cells": [
  {
   "cell_type": "code",
   "execution_count": 1,
   "metadata": {},
   "outputs": [],
   "source": [
    "def find_second_max(array):\n",
    "    if not array or len(array) < 2:\n",
    "        raise ValueError(\"Array should have at least two elements\")\n",
    "    \n",
    "    max_val = second_max_val = float('-inf')\n",
    "    \n",
    "    for num in array:\n",
    "        if num > max_val:\n",
    "            second_max_val = max_val\n",
    "            max_val = num\n",
    "        elif num > second_max_val and num != max_val:\n",
    "            second_max_val = num\n",
    "    \n",
    "    return second_max_val"
   ]
  },
  {
   "cell_type": "code",
   "execution_count": 1,
   "metadata": {},
   "outputs": [
    {
     "name": "stdout",
     "output_type": "stream",
     "text": [
      "Second maximum: 8\n"
     ]
    }
   ],
   "source": [
    "def find_second_maximum(arr):\n",
    "    if len(arr) < 2:\n",
    "        return None  # Not enough elements in the array\n",
    "\n",
    "    max_val = arr[0]\n",
    "    second_max = float('-inf')\n",
    "\n",
    "    for i in range(1, len(arr)):\n",
    "        if arr[i] > max_val:\n",
    "            second_max = max_val\n",
    "            max_val = arr[i]\n",
    "        elif arr[i] > second_max and arr[i] != max_val:\n",
    "            second_max = arr[i]\n",
    "\n",
    "    return second_max if second_max != float('-inf') else None\n",
    "\n",
    "# Example usage\n",
    "arr = [3, 8, 1, 10, 5, 6]\n",
    "print(\"Second maximum:\", find_second_maximum(arr))\n"
   ]
  },
  {
   "cell_type": "code",
   "execution_count": 2,
   "metadata": {},
   "outputs": [
    {
     "name": "stdout",
     "output_type": "stream",
     "text": [
      "Stack 1 after transfer: []\n",
      "Stack 2 after transfer: [5, 4, 3, 2, 1]\n"
     ]
    }
   ],
   "source": [
    "def transfer_elements(stack1, stack2):\n",
    "    while len(stack1) > 0:\n",
    "        stack2.append(stack1.pop())\n",
    "\n",
    "# Example usage\n",
    "stack1 = [1, 2, 3, 4, 5]\n",
    "stack2 = []\n",
    "transfer_elements(stack1, stack2)\n",
    "print(\"Stack 1 after transfer:\", stack1)\n",
    "print(\"Stack 2 after transfer:\", stack2)\n"
   ]
  },
  {
   "cell_type": "code",
   "execution_count": 3,
   "metadata": {},
   "outputs": [
    {
     "name": "stdout",
     "output_type": "stream",
     "text": [
      "Number of trailing zeros in the factorial of 25 is: 6\n"
     ]
    }
   ],
   "source": [
    "def count_trailing_zeros(n):\n",
    "    count = 0\n",
    "    i = 5\n",
    "    while n // i >= 1:\n",
    "        count += n // i\n",
    "        i *= 5\n",
    "    return count\n",
    "\n",
    "# Example usage\n",
    "num = 25\n",
    "print(\"Number of trailing zeros in the factorial of\", num, \"is:\", count_trailing_zeros(num))\n"
   ]
  },
  {
   "cell_type": "code",
   "execution_count": 4,
   "metadata": {},
   "outputs": [
    {
     "name": "stdout",
     "output_type": "stream",
     "text": [
      "Original linked list:\n",
      "1 2 3 4 5 \n",
      "Reversed linked list:\n",
      "5 4 3 2 1 \n"
     ]
    }
   ],
   "source": [
    "class Node:\n",
    "    def __init__(self, value):\n",
    "        self.value = value\n",
    "        self.next = None\n",
    "\n",
    "def reverse_linked_list(head):\n",
    "    prev = None\n",
    "    current = head\n",
    "\n",
    "    while current is not None:\n",
    "        next_node = current.next\n",
    "        current.next = prev\n",
    "        prev = current\n",
    "        current = next_node\n",
    "\n",
    "    return prev\n",
    "\n",
    "def print_linked_list(head):\n",
    "    current = head\n",
    "    while current is not None:\n",
    "        print(current.value, end=\" \")\n",
    "        current = current.next\n",
    "    print()\n",
    "\n",
    "# Example usage\n",
    "# Create a linked list: 1 -> 2 -> 3 -> 4 -> 5\n",
    "head = Node(1)\n",
    "head.next = Node(2)\n",
    "head.next.next = Node(3)\n",
    "head.next.next.next = Node(4)\n",
    "head.next.next.next.next = Node(5)\n",
    "\n",
    "print(\"Original linked list:\")\n",
    "print_linked_list(head)\n",
    "\n",
    "reversed_head = reverse_linked_list(head)\n",
    "\n",
    "print(\"Reversed linked list:\")\n",
    "print_linked_list(reversed_head)\n"
   ]
  },
  {
   "cell_type": "code",
   "execution_count": null,
   "metadata": {},
   "outputs": [],
   "source": [
    "a = 5\n",
    "b = 10\n",
    "\n",
    "print(\"Before swapping:\")\n",
    "print(\"a =\", a)\n",
    "print(\"b =\", b)\n",
    "\n",
    "# Swapping\n",
    "a = a + b\n",
    "b = a - b\n",
    "a = a - b\n",
    "\n",
    "print(\"After swapping:\")\n",
    "print(\"a =\", a)\n",
    "print(\"b =\", b)\n"
   ]
  },
  {
   "cell_type": "code",
   "execution_count": null,
   "metadata": {},
   "outputs": [],
   "source": [
    "def fibonacci(n):\n",
    "    if n <= 0:\n",
    "        return []\n",
    "    elif n == 1:\n",
    "        return [0]\n",
    "    elif n == 2:\n",
    "        return [0, 1]\n",
    "    else:\n",
    "        fib_series = fibonacci(n - 1)\n",
    "        fib_series.append(fib_series[-1] + fib_series[-2])\n",
    "        return fib_series\n",
    "\n",
    "# Example usage\n",
    "n = 10\n",
    "print(\"Fibonacci series:\")\n",
    "print(fibonacci(n))\n"
   ]
  }
 ],
 "metadata": {
  "kernelspec": {
   "display_name": "base",
   "language": "python",
   "name": "python3"
  },
  "language_info": {
   "codemirror_mode": {
    "name": "ipython",
    "version": 3
   },
   "file_extension": ".py",
   "mimetype": "text/x-python",
   "name": "python",
   "nbconvert_exporter": "python",
   "pygments_lexer": "ipython3",
   "version": "3.11.5"
  }
 },
 "nbformat": 4,
 "nbformat_minor": 2
}
