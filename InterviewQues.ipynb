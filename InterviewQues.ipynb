{
 "cells": [
  {
   "cell_type": "code",
   "execution_count": 1,
   "metadata": {},
   "outputs": [],
   "source": [
    "def find_second_max(array):\n",
    "    if not array or len(array) < 2:\n",
    "        raise ValueError(\"Array should have at least two elements\")\n",
    "    \n",
    "    max_val = second_max_val = float('-inf')\n",
    "    \n",
    "    for num in array:\n",
    "        if num > max_val:\n",
    "            second_max_val = max_val\n",
    "            max_val = num\n",
    "        elif num > second_max_val and num != max_val:\n",
    "            second_max_val = num\n",
    "    \n",
    "    return second_max_val"
   ]
  },
  {
   "cell_type": "code",
   "execution_count": 1,
   "metadata": {},
   "outputs": [
    {
     "name": "stdout",
     "output_type": "stream",
     "text": [
      "Second maximum: 8\n"
     ]
    }
   ],
   "source": [
    "def find_second_maximum(arr):\n",
    "    if len(arr) < 2:\n",
    "        return None  # Not enough elements in the array\n",
    "\n",
    "    max_val = arr[0]\n",
    "    second_max = float('-inf')\n",
    "\n",
    "    for i in range(1, len(arr)):\n",
    "        if arr[i] > max_val:\n",
    "            second_max = max_val\n",
    "            max_val = arr[i]\n",
    "        elif arr[i] > second_max and arr[i] != max_val:\n",
    "            second_max = arr[i]\n",
    "\n",
    "    return second_max if second_max != float('-inf') else None\n",
    "\n",
    "# Example usage\n",
    "arr = [3, 8, 1, 10, 5, 6]\n",
    "print(\"Second maximum:\", find_second_maximum(arr))\n"
   ]
  },
  {
   "cell_type": "code",
   "execution_count": null,
   "metadata": {},
   "outputs": [],
   "source": [
    "def transfer_elements(stack1, stack2):\n",
    "    while len(stack1) > 0:\n",
    "        stack2.append(stack1.pop())\n",
    "\n",
    "# Example usage\n",
    "stack1 = [1, 2, 3, 4, 5]\n",
    "stack2 = []\n",
    "transfer_elements(stack1, stack2)\n",
    "print(\"Stack 1 after transfer:\", stack1)\n",
    "print(\"Stack 2 after transfer:\", stack2)\n"
   ]
  }
 ],
 "metadata": {
  "kernelspec": {
   "display_name": "base",
   "language": "python",
   "name": "python3"
  },
  "language_info": {
   "codemirror_mode": {
    "name": "ipython",
    "version": 3
   },
   "file_extension": ".py",
   "mimetype": "text/x-python",
   "name": "python",
   "nbconvert_exporter": "python",
   "pygments_lexer": "ipython3",
   "version": "3.11.5"
  }
 },
 "nbformat": 4,
 "nbformat_minor": 2
}
