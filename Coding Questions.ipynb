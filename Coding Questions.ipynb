{
 "cells": [
  {
   "cell_type": "code",
   "execution_count": 1,
   "metadata": {},
   "outputs": [],
   "source": [
    "def reverseList(list):  # initialize variables \n",
    "    previous = None         # `previous` initially points to None\n",
    "    current = list          # `current` initially points to head\n",
    "\n",
    "    while current is not None:  # iterate until `current` is not None\n",
    "        Next_Node = current.next  # `Next_Node` points to the next node\n",
    "        current.next = previous  # reverse the link\n",
    "        previous = current       # move to the next pair of nodes\n",
    "        current = Next_Node\n",
    "\n",
    "    return previous \n"
   ]
  },
  {
   "cell_type": "code",
   "execution_count": 2,
   "metadata": {},
   "outputs": [],
   "source": [
    "### you can write a function in Python to check if two strings are anagrams or not. Anagrams are two strings that have the same characters but in a different order. Here's a simple function to check for anagrams:"
   ]
  },
  {
   "cell_type": "code",
   "execution_count": 3,
   "metadata": {},
   "outputs": [
    {
     "name": "stdout",
     "output_type": "stream",
     "text": [
      "True\n",
      "False\n"
     ]
    }
   ],
   "source": [
    "def is_anagram(str1, str2):\n",
    "    # Remove spaces and convert to lowercase\n",
    "    str1 = str1.replace(\" \", \"\").lower()\n",
    "    str2 = str2.replace(\" \", \"\").lower()\n",
    "\n",
    "    # Check if the lengths are different\n",
    "    if len(str1) != len(str2):\n",
    "        return False\n",
    "\n",
    "    # Sort the characters and compare\n",
    "    return sorted(str1) == sorted(str2)\n",
    "\n",
    "# Test the function\n",
    "str1 = \"listen\"\n",
    "str2 = \"silent\"\n",
    "print(is_anagram(str1, str2))  # Output: True\n",
    "\n",
    "str1 = \"hello\"\n",
    "str2 = \"world\"\n",
    "print(is_anagram(str1, str2))  # Output: False\n"
   ]
  },
  {
   "cell_type": "code",
   "execution_count": null,
   "metadata": {},
   "outputs": [],
   "source": []
  }
 ],
 "metadata": {
  "kernelspec": {
   "display_name": "base",
   "language": "python",
   "name": "python3"
  },
  "language_info": {
   "codemirror_mode": {
    "name": "ipython",
    "version": 3
   },
   "file_extension": ".py",
   "mimetype": "text/x-python",
   "name": "python",
   "nbconvert_exporter": "python",
   "pygments_lexer": "ipython3",
   "version": "3.11.5"
  }
 },
 "nbformat": 4,
 "nbformat_minor": 2
}
