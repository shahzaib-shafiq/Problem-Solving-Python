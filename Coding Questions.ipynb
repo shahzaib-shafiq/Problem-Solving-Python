{
 "cells": [
  {
   "cell_type": "code",
   "execution_count": 1,
   "metadata": {},
   "outputs": [],
   "source": [
    "def reverseList(list):  # initialize variables \n",
    "    previous = None         # `previous` initially points to None\n",
    "    current = list          # `current` initially points to head\n",
    "\n",
    "    while current is not None:  # iterate until `current` is not None\n",
    "        Next_Node = current.next  # `Next_Node` points to the next node\n",
    "        current.next = previous  # reverse the link\n",
    "        previous = current       # move to the next pair of nodes\n",
    "        current = Next_Node\n",
    "\n",
    "    return previous \n"
   ]
  },
  {
   "cell_type": "code",
   "execution_count": 2,
   "metadata": {},
   "outputs": [],
   "source": [
    "### you can write a function in Python to check if two strings are anagrams or not. Anagrams are two strings that have the same characters but in a different order. Here's a simple function to check for anagrams:"
   ]
  },
  {
   "cell_type": "code",
   "execution_count": 3,
   "metadata": {},
   "outputs": [
    {
     "name": "stdout",
     "output_type": "stream",
     "text": [
      "True\n",
      "False\n"
     ]
    }
   ],
   "source": [
    "def is_anagram(str1, str2):\n",
    "    # Remove spaces and convert to lowercase\n",
    "    str1 = str1.replace(\" \", \"\").lower()\n",
    "    str2 = str2.replace(\" \", \"\").lower()\n",
    "\n",
    "    # Check if the lengths are different\n",
    "    if len(str1) != len(str2):\n",
    "        return False\n",
    "\n",
    "    # Sort the characters and compare\n",
    "    return sorted(str1) == sorted(str2)\n",
    "\n",
    "# Test the function\n",
    "str1 = \"listen\"\n",
    "str2 = \"silent\"\n",
    "print(is_anagram(str1, str2))  # Output: True\n",
    "\n",
    "str1 = \"hello\"\n",
    "str2 = \"world\"\n",
    "print(is_anagram(str1, str2))  # Output: False\n"
   ]
  },
  {
   "cell_type": "code",
   "execution_count": 4,
   "metadata": {},
   "outputs": [
    {
     "name": "stdout",
     "output_type": "stream",
     "text": [
      "Original tree (inorder traversal):\n",
      "4 2 5 1 3 \n",
      "Mirroring the tree...\n",
      "Mirrored tree (inorder traversal):\n",
      "3 1 5 2 4 "
     ]
    }
   ],
   "source": [
    "class Node:\n",
    "    def __init__(self, value):\n",
    "        self.value = value\n",
    "        self.left = None\n",
    "        self.right = None\n",
    "\n",
    "def mirror_binary_tree(root):\n",
    "    if root is None:\n",
    "        return\n",
    "    # Swap the left and right subtrees\n",
    "    root.left, root.right = root.right, root.left\n",
    "    # Recursively mirror the left and right subtrees\n",
    "    mirror_binary_tree(root.left)\n",
    "    mirror_binary_tree(root.right)\n",
    "\n",
    "# Utility function to print the inorder traversal of a binary tree\n",
    "def inorder_traversal(root):\n",
    "    if root:\n",
    "        inorder_traversal(root.left)\n",
    "        print(root.value, end=\" \")\n",
    "        inorder_traversal(root.right)\n",
    "\n",
    "# Example usage\n",
    "# Constructing a binary tree\n",
    "root = Node(1)\n",
    "root.left = Node(2)\n",
    "root.right = Node(3)\n",
    "root.left.left = Node(4)\n",
    "root.left.right = Node(5)\n",
    "\n",
    "print(\"Original tree (inorder traversal):\")\n",
    "inorder_traversal(root)\n",
    "print(\"\\nMirroring the tree...\")\n",
    "mirror_binary_tree(root)\n",
    "print(\"Mirrored tree (inorder traversal):\")\n",
    "inorder_traversal(root)\n"
   ]
  },
  {
   "cell_type": "code",
   "execution_count": 5,
   "metadata": {},
   "outputs": [],
   "source": [
    "def remove_mid_node(node):\n",
    "    if node is None or node.next is None:\n",
    "        return\n",
    "\n",
    "    # Copy the data of the next node to the current node\n",
    "    node.data = node.next.data\n",
    "\n",
    "    # Delete the next node\n",
    "    node.next = node.next.next"
   ]
  },
  {
   "cell_type": "code",
   "execution_count": null,
   "metadata": {},
   "outputs": [],
   "source": []
  }
 ],
 "metadata": {
  "kernelspec": {
   "display_name": "base",
   "language": "python",
   "name": "python3"
  },
  "language_info": {
   "codemirror_mode": {
    "name": "ipython",
    "version": 3
   },
   "file_extension": ".py",
   "mimetype": "text/x-python",
   "name": "python",
   "nbconvert_exporter": "python",
   "pygments_lexer": "ipython3",
   "version": "3.11.5"
  }
 },
 "nbformat": 4,
 "nbformat_minor": 2
}
